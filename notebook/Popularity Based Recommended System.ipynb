{
 "cells": [
  {
   "cell_type": "markdown",
   "id": "fa04a8ee",
   "metadata": {},
   "source": [
    "https://archive.ics.uci.edu/dataset/232/restaurant+consumer+data"
   ]
  },
  {
   "cell_type": "code",
   "execution_count": null,
   "id": "832d0f7a",
   "metadata": {},
   "outputs": [],
   "source": [
    "import pandas as pd \n",
    "import numpy as np"
   ]
  },
  {
   "cell_type": "code",
   "execution_count": null,
   "id": "eda001c4",
   "metadata": {},
   "outputs": [],
   "source": [
    "rating = pd.read_csv(\"datasets/rating_final.csv\")\n",
    "cuisine = pd.read_csv(\"datasets/chefmozcuisine.csv\")"
   ]
  }
 ],
 "metadata": {
  "kernelspec": {
   "display_name": "rec-sys",
   "language": "python",
   "name": "python3"
  },
  "language_info": {
   "codemirror_mode": {
    "name": "ipython",
    "version": 3
   },
   "file_extension": ".py",
   "mimetype": "text/x-python",
   "name": "python",
   "nbconvert_exporter": "python",
   "pygments_lexer": "ipython3",
   "version": "3.13.5"
  }
 },
 "nbformat": 4,
 "nbformat_minor": 5
}
